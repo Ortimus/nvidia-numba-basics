{
  "nbformat": 4,
  "nbformat_minor": 0,
  "metadata": {
    "colab": {
      "name": "Edge_Detection_CUDA_Numba.ipynb",
      "provenance": [],
      "accelerator": "GPU"
    }
  },
  "cells": [
    {
      "cell_type": "markdown",
      "metadata": {},
      "source": [
        "# Edge Detection with CUDA and Numba\n",
        "Demonstrates:\n",
        "- 2D array operations\n",
        "- Shared memory usage\n",
        "- Grid/block concepts"
      ]
    },
    {
      "cell_type": "code",
      "metadata": {"id": "setup"},
      "source": [
        "!pip install numba opencv-python\n",
        "import numpy as np\n",
        "from numba import cuda\n",
        "import cv2\n",
        "import matplotlib.pyplot as plt\n",
        "from time import time"
      ]
    },
    {
      "cell_type": "code",
      "metadata": {"id": "kernels"},
      "source": [
        "SOBEL_X = np.array([[-1, 0, 1],\n",
        "                    [-2, 0, 2],\n",
        "                    [-1, 0, 1]], dtype=np.float32)\n",
        "\n",
        "SOBEL_Y = np.array([[-1, -2, -1],\n",
        "                    [ 0,  0,  0],\n",
        "                    [ 1,  2,  1]], dtype=np.float32)\n",
        "\n",
        "@cuda.jit\n",
        "def edge_detect_shared(image, output):\n",
        "    # Shared memory for 3x3 neighborhood\n",
        "    BLOCK_SIZE = 16\n",
        "    shared = cuda.shared.array((BLOCK_SIZE+2, BLOCK_SIZE+2), dtype=np.float32)\n",
        "    \n",
        "    tx = cuda.threadIdx.x\n",
        "    ty = cuda.threadIdx.y\n",
        "    bx = cuda.blockIdx.x\n",
        "    by = cuda.blockIdx.y\n",
        "    \n",
        "    # Global indices\n",
        "    x = bx * BLOCK_SIZE + tx\n",
        "    y = by * BLOCK_SIZE + ty\n",
        "    \n",
        "    # Load data into shared memory\n",
        "    if x < image.shape[0] and y < image.shape[1]:\n",
        "        shared[ty+1, tx+1] = image[x, y]\n",
        "        \n",
        "        # Load halo regions\n",
        "        if tx == 0 and x > 0:\n",
        "            shared[ty+1, 0] = image[x-1, y]\n",
        "        if tx == BLOCK_SIZE-1 and x < image.shape[0]-1:\n",
        "            shared[ty+1, tx+2] = image[x+1, y]\n",
        "        if ty == 0 and y > 0:\n",
        "            shared[0, tx+1] = image[x, y-1]\n",
        "        if ty == BLOCK_SIZE-1 and y < image.shape[1]-1:\n",
        "            shared[ty+2, tx+1] = image[x, y+1]\n",
        "            \n",
        "    cuda.syncthreads()\n",
        "    \n",
        "    if x < image.shape[0]-1 and y < image.shape[1]-1 and x > 0 and y > 0:\n",
        "        gx = 0.0\n",
        "        gy = 0.0\n",
        "        \n",
        "        # Sobel filter computation\n",
        "        for i in range(3):\n",
        "            for j in range(3):\n",
        "                pixel = shared[ty+i, tx+j]\n",
        "                gx += pixel * SOBEL_X[i, j]\n",
        "                gy += pixel * SOBEL_Y[i, j]\n",
        "                \n",
        "        # Magnitude of gradient\n",
        "        output[x, y] = (gx*gx + gy*gy)**0.5"
      ]
    },
    {
      "cell_type": "code",
      "metadata": {"id": "processing"},
      "source": [
        "def process_image(image, use_gpu=True):\n",
        "    if not use_gpu:\n",
        "        gx = cv2.Sobel(image, cv2.CV_32F, 1, 0)\n",
        "        gy = cv2.Sobel(image, cv2.CV_32F, 0, 1)\n",
        "        return np.sqrt(gx*gx + gy*gy)\n",
        "    \n",
        "    output = np.zeros_like(image, dtype=np.float32)\n",
        "    d_image = cuda.to_device(image)\n",
        "    d_output = cuda.to_device(output)\n",
        "    \n",
        "    threadsperblock = (16, 16)\n",
        "    blockspergrid_x = (image.shape[0] + threadsperblock[0] - 1) // threadsperblock[0]\n",
        "    blockspergrid_y = (image.shape[1] + threadsperblock[1] - 1) // threadsperblock[1]\n",
        "    blockspergrid = (blockspergrid_x, blockspergrid_y)\n",
        "    \n",
        "    edge_detect_shared[blockspergrid, threadsperblock](d_image, d_output)\n",
        "    \n",
        "    return d_output.copy_to_host()"
      ]
    },
    {
      "cell_type": "code",
      "metadata": {"id": "benchmark"},
      "source": [
        "# Load and process test image\n",
        "image = cv2.imread('your_image.jpg', cv2.IMREAD_GRAYSCALE).astype(np.float32) / 255\n",
        "\n",
        "# CPU timing\n",
        "t0 = time()\n",
        "cpu_result = process_image(image, use_gpu=False)\n",
        "cpu_time = time() - t0\n",
        "\n",
        "# GPU timing\n",
        "t0 = time()\n",
        "gpu_result = process_image(image, use_gpu=True)\n",
        "gpu_time = time() - t0\n",
        "\n",
        "# Display results\n",
        "fig, axes = plt.subplots(1, 3, figsize=(15, 5))\n",
        "axes[0].imshow(image, cmap='gray')\n",
        "axes[0].set_title('Original')\n",
        "axes[1].imshow(cpu_result, cmap='gray')\n",
        "axes[1].set_title(f'CPU Result ({cpu_time:.3f}s)')\n",
        "axes[2].imshow(gpu_result, cmap='gray')\n",
        "axes[2].set_title(f'GPU Result ({gpu_time:.3f}s)')\n",
        "plt.show()"
      ]
    }
  ]
}

